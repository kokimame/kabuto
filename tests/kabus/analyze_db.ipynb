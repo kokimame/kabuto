{
 "cells": [
  {
   "cell_type": "code",
   "execution_count": 1,
   "outputs": [],
   "source": [
    "import sqlalchemy as db"
   ],
   "metadata": {
    "collapsed": false,
    "pycharm": {
     "name": "#%%\n"
    }
   }
  },
  {
   "cell_type": "code",
   "execution_count": 2,
   "outputs": [],
   "source": [
    "engine = db.create_engine('sqlite:///kabuto_live.sqlite')\n",
    "connection = engine.connect()\n",
    "metadata = db.MetaData()\n",
    "orders = db.Table('orders', metadata, autoload=True, autoload_with=engine)"
   ],
   "metadata": {
    "collapsed": false,
    "pycharm": {
     "name": "#%%\n"
    }
   }
  },
  {
   "cell_type": "code",
   "execution_count": 3,
   "outputs": [],
   "source": [
    "query = db.select([orders])"
   ],
   "metadata": {
    "collapsed": false,
    "pycharm": {
     "name": "#%%\n"
    }
   }
  },
  {
   "cell_type": "code",
   "execution_count": 4,
   "outputs": [],
   "source": [
    "ResultProxy = connection.execute(query)"
   ],
   "metadata": {
    "collapsed": false,
    "pycharm": {
     "name": "#%%\n"
    }
   }
  },
  {
   "cell_type": "code",
   "execution_count": 5,
   "outputs": [],
   "source": [
    "ResultSet = ResultProxy.fetchall()"
   ],
   "metadata": {
    "collapsed": false,
    "pycharm": {
     "name": "#%%\n"
    }
   }
  },
  {
   "cell_type": "code",
   "execution_count": 6,
   "outputs": [
    {
     "data": {
      "text/plain": "RMKeyView(['id', 'ft_trade_id', 'ft_order_side', 'ft_pair', 'ft_is_open', 'order_id', 'status', 'symbol', 'order_type', 'side', 'price', 'average', 'amount', 'filled', 'remaining', 'cost', 'order_date', 'order_filled_date', 'order_update_date', 'ft_fee_base'])"
     },
     "execution_count": 6,
     "metadata": {},
     "output_type": "execute_result"
    }
   ],
   "source": [
    "ResultProxy.keys()"
   ],
   "metadata": {
    "collapsed": false,
    "pycharm": {
     "name": "#%%\n"
    }
   }
  },
  {
   "cell_type": "code",
   "execution_count": 13,
   "outputs": [
    {
     "data": {
      "text/plain": "{'id': 10,\n 'ft_trade_id': 2,\n 'ft_order_side': 'sell',\n 'ft_pair': '7140@1/JPY',\n 'ft_is_open': True,\n 'order_id': '20220506A01N93169139',\n 'status': None,\n 'symbol': None,\n 'order_type': None,\n 'side': None,\n 'price': None,\n 'average': None,\n 'amount': None,\n 'filled': None,\n 'remaining': None,\n 'cost': None,\n 'order_date': datetime.datetime(2022, 5, 6, 4, 29, 3, 550612),\n 'order_filled_date': None,\n 'order_update_date': datetime.datetime(2022, 5, 6, 4, 29, 3, 546914),\n 'ft_fee_base': None}"
     },
     "execution_count": 13,
     "metadata": {},
     "output_type": "execute_result"
    }
   ],
   "source": [
    "{key: val for key, val in zip(ResultProxy.keys(), ResultSet[9])}"
   ],
   "metadata": {
    "collapsed": false,
    "pycharm": {
     "name": "#%%\n"
    }
   }
  },
  {
   "cell_type": "code",
   "execution_count": 8,
   "outputs": [
    {
     "data": {
      "text/plain": "<sqlalchemy.engine.cursor.LegacyCursorResult at 0x7f3262d2bd30>"
     },
     "execution_count": 8,
     "metadata": {},
     "output_type": "execute_result"
    }
   ],
   "source": [
    "from freqtrade.persistence import Order\n",
    "from sqlalchemy import text\n",
    "\n",
    "result = connection.execute(text(\"\"\"SELECT * FROM 'orders' LIMIT 0,30\"\"\"))\n",
    "result"
   ],
   "metadata": {
    "collapsed": false,
    "pycharm": {
     "name": "#%%\n"
    }
   }
  },
  {
   "cell_type": "code",
   "execution_count": 10,
   "outputs": [],
   "source": [
    "from freqtrade.persistence import Trade, init_db"
   ],
   "metadata": {
    "collapsed": false,
    "pycharm": {
     "name": "#%%\n"
    }
   }
  },
  {
   "cell_type": "code",
   "execution_count": 49,
   "outputs": [],
   "source": [
    "from sqlalchemy.orm import scoped_session, sessionmaker, declarative_base\n",
    "from sqlalchemy import create_engine\n",
    "from freqtrade.enums import TradingMode\n",
    "import arrow\n",
    "import os\n",
    "\n",
    "spot, margin, futures = TradingMode.SPOT, TradingMode.MARGIN, TradingMode.FUTURES\n",
    "\n",
    "trade = Trade(\n",
    "    id=1,\n",
    "    pair='ADA/USDT',\n",
    "    stake_amount=0.001,\n",
    "    open_rate=0.01,\n",
    "    amount=5,\n",
    "    is_open=True,\n",
    "    open_date=arrow.utcnow().datetime,\n",
    "    fee_open=0.001,\n",
    "    fee_close=0.001,\n",
    "    exchange='binance',\n",
    "    is_short=False,\n",
    "    leverage=2.0,\n",
    "    trading_mode=margin\n",
    ")\n",
    "\n",
    "order = Order(\n",
    "    order_id=0,\n",
    "    ft_order_side='buy',\n",
    "    ft_pair=trade.pair,\n",
    "    ft_is_open=False,\n",
    "    status=\"closed\",\n",
    "    symbol=trade.pair,\n",
    "    order_type=\"market\",\n",
    "    side=\"buy\",\n",
    "    price=100,\n",
    "    average=100,\n",
    "    filled=0.1,\n",
    "    remaining=0,\n",
    "    cost=0.01,\n",
    "    order_date=trade.open_date,\n",
    "    order_filled_date=trade.open_date,\n",
    ")\n",
    "\n",
    "db_url = f'sqlite:///debug.db'\n",
    "init_db(db_url)\n",
    "# https://docs.sqlalchemy.org/en/13/orm/contextual.html#thread-local-scope\n",
    "# Scoped sessions proxy requests to the appropriate thread-local session.\n",
    "# We should use the scoped_session object - not a seperately initialized version\n",
    "Trade._session = scoped_session(sessionmaker(bind=engine, autoflush=True))\n",
    "Order._session = scoped_session(sessionmaker(bind=engine, autoflush=True))\n",
    "Trade.query = Trade._session.query_property()\n",
    "Order.query = Order._session.query_property()\n",
    "\n",
    "Trade.query.session.add(trade)\n",
    "Order.query.session.add(order)\n",
    "\n",
    "Trade.commit()\n",
    "Order.query.session.commit()\n"
   ],
   "metadata": {
    "collapsed": false,
    "pycharm": {
     "name": "#%%\n"
    }
   }
  }
 ],
 "metadata": {
  "kernelspec": {
   "display_name": "Python 3",
   "language": "python",
   "name": "python3"
  },
  "language_info": {
   "codemirror_mode": {
    "name": "ipython",
    "version": 2
   },
   "file_extension": ".py",
   "mimetype": "text/x-python",
   "name": "python",
   "nbconvert_exporter": "python",
   "pygments_lexer": "ipython2",
   "version": "2.7.6"
  }
 },
 "nbformat": 4,
 "nbformat_minor": 0
}